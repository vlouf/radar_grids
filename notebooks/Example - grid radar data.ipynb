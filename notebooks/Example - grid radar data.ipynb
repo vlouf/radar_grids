{
 "cells": [
  {
   "cell_type": "code",
   "execution_count": 1,
   "metadata": {
    "ExecuteTime": {
     "end_time": "2020-11-27T00:02:49.861366Z",
     "start_time": "2020-11-27T00:02:47.529168Z"
    }
   },
   "outputs": [],
   "source": [
    "import re\n",
    "import glob\n",
    "import tqdm\n",
    "import warnings\n",
    "import traceback\n",
    "\n",
    "import radar_grids\n",
    "\n",
    "warnings.simplefilter('ignore')"
   ]
  },
  {
   "cell_type": "code",
   "execution_count": 2,
   "metadata": {
    "ExecuteTime": {
     "end_time": "2020-11-27T00:02:49.866613Z",
     "start_time": "2020-11-27T00:02:49.863360Z"
    }
   },
   "outputs": [],
   "source": [
    "def buffer(infile: str) -> None:\n",
    "    \"\"\"\n",
    "    It calls the production line and manages it. Buffer function that is used\n",
    "    to catch any problem with the processing line without screwing the whole\n",
    "    multiprocessing stuff.\n",
    "\n",
    "    Parameters:\n",
    "    ===========\n",
    "    infile: str\n",
    "        Name of the input radar file.    \n",
    "    \"\"\"\n",
    "    radar_grids.标准映射(infile, \"/scratch/kl02/vhl548/cpol/corrected\", prefix=\"twp10cpolgrid\", na_standard=True)\n",
    "\n",
    "    return None"
   ]
  },
  {
   "cell_type": "code",
   "execution_count": 3,
   "metadata": {
    "ExecuteTime": {
     "end_time": "2020-11-27T00:02:49.876237Z",
     "start_time": "2020-11-27T00:02:49.872715Z"
    }
   },
   "outputs": [],
   "source": [
    "flist = sorted(glob.glob('/g/data/hj10/cpol/cpol_level_1b/v2020/ppi/2010/20100430/*.nc'))"
   ]
  },
  {
   "cell_type": "code",
   "execution_count": 4,
   "metadata": {
    "ExecuteTime": {
     "end_time": "2020-11-27T00:02:49.880720Z",
     "start_time": "2020-11-27T00:02:49.877655Z"
    }
   },
   "outputs": [],
   "source": [
    "corrupted = [\n",
    "    '20100430.110000',\n",
    "    '20100430.113000',\n",
    "    '20100430.105000',\n",
    "    '20100430.094000',\n",
    "    '20100430.124000',\n",
    "    '20100430.112000',\n",
    "    '20100430.095000',\n",
    "    '20100430.104000',\n",
    "    '20100430.125000',\n",
    "    '20100430.115000',\n",
    "    '20100430.122000',\n",
    "    '20100430.092000',\n",
    "    '20100430.103000',\n",
    "    '20100430.114000',\n",
    "    '20100430.123000',\n",
    "    '20100430.102000',\n",
    "    '20100430.093000',\n",
    "    '20100430.101000',\n",
    "    '20100430.120000',\n",
    "    '20100430.121000'\n",
    "]"
   ]
  },
  {
   "cell_type": "code",
   "execution_count": 5,
   "metadata": {
    "ExecuteTime": {
     "end_time": "2020-11-27T00:02:49.887066Z",
     "start_time": "2020-11-27T00:02:49.882202Z"
    }
   },
   "outputs": [],
   "source": [
    "gd = [f for f in flist if re.findall(\"[0-9]{8}.[0-9]{6}\", f)[0] in corrupted]"
   ]
  },
  {
   "cell_type": "code",
   "execution_count": 6,
   "metadata": {
    "ExecuteTime": {
     "end_time": "2020-11-27T00:04:41.631375Z",
     "start_time": "2020-11-27T00:02:49.888520Z"
    }
   },
   "outputs": [
    {
     "data": {
      "application/vnd.jupyter.widget-view+json": {
       "model_id": "da034934c90b43359860b9ec1f4e87f4",
       "version_major": 2,
       "version_minor": 0
      },
      "text/plain": [
       "HBox(children=(HTML(value=''), FloatProgress(value=0.0, max=20.0), HTML(value='')))"
      ]
     },
     "metadata": {},
     "output_type": "display_data"
    },
    {
     "name": "stdout",
     "output_type": "stream",
     "text": [
      "\n"
     ]
    }
   ],
   "source": [
    "for f in tqdm.tqdm_notebook(gd):\n",
    "    buffer(f)"
   ]
  },
  {
   "cell_type": "code",
   "execution_count": null,
   "metadata": {},
   "outputs": [],
   "source": []
  }
 ],
 "metadata": {
  "kernelspec": {
   "display_name": "Python 3",
   "language": "python",
   "name": "python3"
  },
  "language_info": {
   "codemirror_mode": {
    "name": "ipython",
    "version": 3
   },
   "file_extension": ".py",
   "mimetype": "text/x-python",
   "name": "python",
   "nbconvert_exporter": "python",
   "pygments_lexer": "ipython3",
   "version": "3.8.5"
  },
  "varInspector": {
   "cols": {
    "lenName": 16,
    "lenType": 16,
    "lenVar": 40
   },
   "kernels_config": {
    "python": {
     "delete_cmd_postfix": "",
     "delete_cmd_prefix": "del ",
     "library": "var_list.py",
     "varRefreshCmd": "print(var_dic_list())"
    },
    "r": {
     "delete_cmd_postfix": ") ",
     "delete_cmd_prefix": "rm(",
     "library": "var_list.r",
     "varRefreshCmd": "cat(var_dic_list()) "
    }
   },
   "types_to_exclude": [
    "module",
    "function",
    "builtin_function_or_method",
    "instance",
    "_Feature"
   ],
   "window_display": false
  }
 },
 "nbformat": 4,
 "nbformat_minor": 2
}
