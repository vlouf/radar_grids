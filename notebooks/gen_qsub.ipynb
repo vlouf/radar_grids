{
 "cells": [
  {
   "cell_type": "code",
   "execution_count": 1,
   "metadata": {
    "ExecuteTime": {
     "end_time": "2020-12-03T04:49:15.386506Z",
     "start_time": "2020-12-03T04:49:15.382906Z"
    }
   },
   "outputs": [],
   "source": [
    "import os\n",
    "import glob"
   ]
  },
  {
   "cell_type": "code",
   "execution_count": 4,
   "metadata": {
    "ExecuteTime": {
     "end_time": "2020-12-03T04:52:19.510374Z",
     "start_time": "2020-12-03T04:52:19.505002Z"
    }
   },
   "outputs": [],
   "source": [
    "def configuration_file(year=1999, walltime=10):\n",
    "    if year == 2009:\n",
    "        walltime=2\n",
    "    start_date = f'{year}0101'\n",
    "    end_date = f'{year}1231'\n",
    "\n",
    "    conf_txt = f\"\"\"#!/bin/bash\n",
    "#PBS -P kl02\n",
    "#PBS -q normal\n",
    "#PBS -l walltime={walltime}:00:00\n",
    "#PBS -l mem=128GB\n",
    "#PBS -l wd\n",
    "#PBS -l ncpus=16\n",
    "#PBS -lstorage=scratch/hj10+gdata/hj10+scratch/kl02\n",
    "source activate radar\n",
    "\n",
    "python radar_pack.py -s {start_date} -e {end_date} -i /g/data/hj10/cpol/cpol_level_1b/v2020/ppi/ -o /scratch/kl02/vhl548/cpol/cpol_level_1b/v2020/gridded/\n",
    "\"\"\"\n",
    "    return conf_txt"
   ]
  },
  {
   "cell_type": "code",
   "execution_count": 5,
   "metadata": {
    "ExecuteTime": {
     "end_time": "2020-12-03T04:52:19.722841Z",
     "start_time": "2020-12-03T04:52:19.714795Z"
    }
   },
   "outputs": [],
   "source": [
    "for year in range(2015, 2018):\n",
    "    if year == 2008:\n",
    "        continue\n",
    "    txt = configuration_file(year)\n",
    "    outfile = f\"../scripts/qgrid_{year}.pbs\"\n",
    "    with open(outfile, 'w+') as fid:\n",
    "        fid.write(txt)"
   ]
  },
  {
   "cell_type": "code",
   "execution_count": null,
   "metadata": {},
   "outputs": [],
   "source": [
    "def configuration_file2(indir, outdir):\n",
    "    conf_txt = f\"\"\"#!/bin/bash\n",
    "#PBS -P kl02\n",
    "#PBS -q normal\n",
    "#PBS -l walltime=5:00:00\n",
    "#PBS -l mem=128GB\n",
    "#PBS -l wd\n",
    "#PBS -l ncpus=16\n",
    "#PBS -lstorage=scratch/hj10+gdata/hj10+scratch/kl02\n",
    "source activate radar\n",
    "\n",
    "if [ ! -d \"{outdir}\" ]\n",
    "then \n",
    "    mkdir {outdir}\n",
    "fi\n",
    "\n",
    "python radar_dir.py -i {indir} -o {outdir}\n",
    "\"\"\"\n",
    "    return conf_txt"
   ]
  },
  {
   "cell_type": "code",
   "execution_count": null,
   "metadata": {},
   "outputs": [],
   "source": [
    "dirlist = glob.glob(\"/g/data/hj10/admin/opol/level_1b/ppi/*\")\n",
    "dirnames = [os.path.basename(d) for d in dirlist]\n",
    "OUTPATH = \"/g/data/hj10/admin/incoming/opol/gridded/\"\n",
    "outdirs = [OUTPATH + d for d in dirnames]\n",
    "\n",
    "for i, o in zip(dirlist, outdirs):\n",
    "    conf = configuration_file(i, o)\n",
    "    suffix = os.path.basename(o)    \n",
    "    outfile = f\"/home/548/vhl548/projects/RADAR_codes/radar_grids/scripts/qgrid_{suffix}.pbs\"\n",
    "    with open(outfile, \"w+\") as fid:\n",
    "        fid.write(conf)"
   ]
  }
 ],
 "metadata": {
  "kernelspec": {
   "display_name": "Python 3",
   "language": "python",
   "name": "python3"
  },
  "language_info": {
   "codemirror_mode": {
    "name": "ipython",
    "version": 3
   },
   "file_extension": ".py",
   "mimetype": "text/x-python",
   "name": "python",
   "nbconvert_exporter": "python",
   "pygments_lexer": "ipython3",
   "version": "3.8.5"
  },
  "varInspector": {
   "cols": {
    "lenName": 16,
    "lenType": 16,
    "lenVar": 40
   },
   "kernels_config": {
    "python": {
     "delete_cmd_postfix": "",
     "delete_cmd_prefix": "del ",
     "library": "var_list.py",
     "varRefreshCmd": "print(var_dic_list())"
    },
    "r": {
     "delete_cmd_postfix": ") ",
     "delete_cmd_prefix": "rm(",
     "library": "var_list.r",
     "varRefreshCmd": "cat(var_dic_list()) "
    }
   },
   "types_to_exclude": [
    "module",
    "function",
    "builtin_function_or_method",
    "instance",
    "_Feature"
   ],
   "window_display": false
  }
 },
 "nbformat": 4,
 "nbformat_minor": 2
}
